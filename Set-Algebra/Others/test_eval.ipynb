{
 "cells": [
  {
   "cell_type": "code",
   "execution_count": 29,
   "metadata": {},
   "outputs": [
    {
     "name": "stdout",
     "output_type": "stream",
     "text": [
      "True\n"
     ]
    }
   ],
   "source": [
    "def evaluate_predicate(element, predicate_expression):\n",
    "    \"\"\"\n",
    "    动态解析并计算谓词表达式，支持不定长度的逻辑条件。\n",
    "    :param element: 单一值，例如 `3`\n",
    "    :param predicate_expression: 谓词表达式，例如 `{a: a > 1 | a > 0 & a > 10 | a < -5}`\n",
    "    :return: 布尔值，判断结果\n",
    "    \"\"\"\n",
    "    import re\n",
    "\n",
    "    # 去除多余空格\n",
    "    predicate_expression = re.sub(r\"\\s+\", \"\", predicate_expression).strip()\n",
    "\n",
    "    # 去除括号\n",
    "    predicate_expression = predicate_expression.replace(\"(\", \"\").replace(\")\", \"\")\n",
    "\n",
    "    # 匹配变量和谓词\n",
    "    match = re.match(r\"\\{(\\w+):(.+)\\}\", predicate_expression)\n",
    "    if not match:\n",
    "        raise ValueError(f\"Invalid predicate expression: {predicate_expression}\")\n",
    "\n",
    "    variable, predicate = match.groups()\n",
    "\n",
    "    # 替换逻辑运算符为 Python 的运算符\n",
    "    # 将赋值符号替换为逻辑比较符号\n",
    "    predicate = re.sub(r\"(?<![=!<>])=(?![=!<>])\", \"==\", predicate)\n",
    "    predicate = predicate.replace(\"|\", \" or \").replace(\"&\", \" and \").replace(\"!\", \" not \")\n",
    "\n",
    "    # 防止数字直接相连，确保逻辑运算符两边有空格\n",
    "    predicate = re.sub(r\"(\\d)(or|and|not)(\\d)\", r\"\\1 \\2 \\3\", predicate)\n",
    "\n",
    "    # 动态求值，将 `element` 的值代入谓词\n",
    "    try:\n",
    "        # 使用 exec 绑定变量\n",
    "        local_namespace = {}\n",
    "        exec(f\"{variable} = {element}\", {}, local_namespace)\n",
    "        result = eval(predicate, {}, local_namespace)\n",
    "    except Exception as e:\n",
    "        return f\"{element} @ {predicate_expression}\"\n",
    "        \n",
    "        # raise ValueError(f\"Error evaluating predicate '{predicate_expression}' with element '{element}': {e}\")\n",
    "\n",
    "    return result\n",
    "\n",
    "\n",
    "# 示例输入\n",
    "E1_value = 4\n",
    "E2_value = \"{a: （a>0 | a<10) & (a>100)) | a>9}\"  # 非标准表达式\n",
    "\n",
    "result = evaluate_predicate(E1_value, E2_value)\n",
    "print(result)  # 输出: True"
   ]
  },
  {
   "cell_type": "code",
   "execution_count": 2,
   "metadata": {},
   "outputs": [
    {
     "name": "stdout",
     "output_type": "stream",
     "text": [
      "True\n"
     ]
    }
   ],
   "source": [
    "def evaluate_predicate(element, predicate_expression):\n",
    "    \"\"\"\n",
    "    动态解析并计算谓词表达式，支持不定长度的逻辑条件。\n",
    "    :param element: 单一值，例如 `3`\n",
    "    :param predicate_expression: 谓词表达式，例如 `{a: ((a > 0 | a < 10) & (a > 100)) | a > 9}`\n",
    "    :return: 布尔值，判断结果\n",
    "    \"\"\"\n",
    "    import re\n",
    "\n",
    "    # 去除多余空格\n",
    "    predicate_expression = re.sub(r\"\\s+\", \"\", predicate_expression).strip()\n",
    "\n",
    "    # 匹配变量和谓词\n",
    "    match = re.match(r\"\\{(\\w+):(.+)\\}\", predicate_expression)\n",
    "    if not match:\n",
    "        raise ValueError(f\"Invalid predicate expression: {predicate_expression}\")\n",
    "\n",
    "    variable, predicate = match.groups()\n",
    "\n",
    "    # 替换逻辑运算符为 Python 的运算符\n",
    "    # 替换赋值符号为逻辑比较符号\n",
    "    predicate = re.sub(r\"(?<![=!<>])=(?![=!<>])\", \"==\", predicate)\n",
    "    predicate = predicate.replace(\"|\", \" or \").replace(\"&\", \" and \").replace(\"!\", \" not \")\n",
    "\n",
    "    # 确保逻辑运算符两侧有空格\n",
    "    predicate = re.sub(r\"(\\d)(or|and|not)(\\d)\", r\"\\1 \\2 \\3\", predicate)\n",
    "\n",
    "    # 动态求值，将 `element` 的值代入谓词\n",
    "    try:\n",
    "        # 使用 exec 绑定变量\n",
    "        local_namespace = {}\n",
    "        exec(f\"{variable} = {element}\", {}, local_namespace)\n",
    "        result = eval(predicate, {}, local_namespace)\n",
    "    except Exception as e:\n",
    "        return f\"{element} @ {predicate_expression}\"\n",
    "        # raise ValueError(f\"Error evaluating predicate '{predicate_expression}' with element '{element}': {e}\")\n",
    "\n",
    "    return result\n",
    "\n",
    "\n",
    "# 示例输入\n",
    "E1_value = 4\n",
    "# E2_value = \"{a: ((a>0|a<10)&(a>100))|a>9}\"  # 保留括号并处理逻辑运算符\n",
    "# E2_value = \"{a: (a>0 | a<10)}\"  # 保留括号并处理逻辑运算符\n",
    "E2_value = \"{a:     (a>0 | a<10)}\"  # 非标准表达式\n",
    "\n",
    "result = evaluate_predicate(E1_value, E2_value)\n",
    "print(result)  # 输出: False"
   ]
  }
 ],
 "metadata": {
  "kernelspec": {
   "display_name": "ML",
   "language": "python",
   "name": "python3"
  },
  "language_info": {
   "codemirror_mode": {
    "name": "ipython",
    "version": 3
   },
   "file_extension": ".py",
   "mimetype": "text/x-python",
   "name": "python",
   "nbconvert_exporter": "python",
   "pygments_lexer": "ipython3",
   "version": "3.12.7"
  }
 },
 "nbformat": 4,
 "nbformat_minor": 2
}
